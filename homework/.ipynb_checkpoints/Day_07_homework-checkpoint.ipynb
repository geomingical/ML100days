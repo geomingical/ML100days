{
 "cells": [
  {
   "cell_type": "code",
   "execution_count": null,
   "metadata": {
    "collapsed": true,
    "deletable": true,
    "editable": true,
    "id": "g7_Zhb9Bif-K"
   },
   "outputs": [],
   "source": []
  },
  {
   "cell_type": "markdown",
   "metadata": {
    "deletable": true,
    "editable": true,
    "id": "GLhLqOtlj1fc"
   },
   "source": [
    "作業目標<br>\n",
    "活用矩陣運算，實做線性代數<br>\n",
    "作業重點<br>\n",
    "線性代數公式應用<br>\n",
    "矩陣相乘維度需要對好，例如:2X3矩陣乘上3X5矩陣得到2X5矩陣"
   ]
  },
  {
   "cell_type": "markdown",
   "metadata": {
    "deletable": true,
    "editable": true,
    "id": "Rq6NRNxLj4w1"
   },
   "source": [
    "題目:<br>\n",
    "array1 = np.array([[10, 8], [3, 5]]) <br>\n",
    "1. 運用上列array計算反矩陣，乘上原矩陣，並觀察是否為單位矩陣?\n",
    "2. 運用上列array計算特徵值、特徵向量?\n",
    "3. 運用上列array計算SVD?"
   ]
  },
  {
   "cell_type": "code",
   "execution_count": 1,
   "metadata": {
    "collapsed": true,
    "deletable": true,
    "editable": true,
    "id": "YakNatIPj3CW"
   },
   "outputs": [],
   "source": [
    "import numpy as np"
   ]
  },
  {
   "cell_type": "code",
   "execution_count": 3,
   "metadata": {
    "collapsed": false,
    "deletable": true,
    "editable": true,
    "id": "QT4ntMV1kR1c"
   },
   "outputs": [
    {
     "data": {
      "text/plain": [
       "array([[ 1.92307692, -3.07692308, -1.15384615,  3.84615385],\n",
       "       [ 1.53846154, -2.46153846, -0.92307692,  3.07692308],\n",
       "       [ 0.57692308, -0.92307692, -0.34615385,  1.15384615],\n",
       "       [ 0.96153846, -1.53846154, -0.57692308,  1.92307692]])"
      ]
     },
     "execution_count": 3,
     "metadata": {},
     "output_type": "execute_result"
    }
   ],
   "source": [
    "#1. 運用上列array計算反矩陣，乘上原矩陣，並觀察是否為單位矩陣?\n",
    "array1 = np.array([[10, 8], [3, 5]])\n",
    "arr_1=np.linalg.inv(array1)\n",
    "\n",
    "np.outer(array1, arr_1)"
   ]
  },
  {
   "cell_type": "code",
   "execution_count": null,
   "metadata": {
    "collapsed": true,
    "deletable": true,
    "editable": true,
    "id": "9f7cVxwwk-y9"
   },
   "outputs": [],
   "source": [
    "#2. 運用上列array計算特徵值、特徵向量?"
   ]
  },
  {
   "cell_type": "code",
   "execution_count": null,
   "metadata": {
    "collapsed": true,
    "deletable": true,
    "editable": true,
    "id": "OHSs5etxnL8D"
   },
   "outputs": [],
   "source": [
    "#3. 運用上列array計算SVD?"
   ]
  },
  {
   "cell_type": "code",
   "execution_count": null,
   "metadata": {
    "collapsed": true,
    "deletable": true,
    "editable": true,
    "id": "5BaVZFRvpXZo"
   },
   "outputs": [],
   "source": []
  }
 ],
 "metadata": {
  "colab": {
   "collapsed_sections": [],
   "name": "作業Hong題目.ipynb",
   "provenance": []
  },
  "kernelspec": {
   "display_name": "Python 3",
   "language": "python",
   "name": "python3"
  },
  "language_info": {
   "codemirror_mode": {
    "name": "ipython",
    "version": 3
   },
   "file_extension": ".py",
   "mimetype": "text/x-python",
   "name": "python",
   "nbconvert_exporter": "python",
   "pygments_lexer": "ipython3",
   "version": "3.6.0"
  }
 },
 "nbformat": 4,
 "nbformat_minor": 0
}
