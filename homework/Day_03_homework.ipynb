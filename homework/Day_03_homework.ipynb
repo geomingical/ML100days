{
 "cells": [
  {
   "cell_type": "markdown",
   "metadata": {
    "deletable": true,
    "editable": true,
    "id": "rY2oyzUo2wKZ"
   },
   "source": [
    "作業目標:<br>\n",
    "嘗試練習log的函式並應用<br>\n",
    "作業重點:<br>\n",
    "學員需要複習log的轉換方式<br>\n",
    "熟悉運用指數函數以及對數函數"
   ]
  },
  {
   "cell_type": "markdown",
   "metadata": {
    "deletable": true,
    "editable": true,
    "id": "Esjhs7zz2y95"
   },
   "source": [
    "題目:<br>\n",
    "運用投影片中的分貝公式回答下列問題。<br>\n",
    "1.正常的談話的聲壓為20000微巴斯卡，請問多少分貝?<br>\n",
    "2.30分貝的聲壓會是50分貝的幾倍?\n"
   ]
  },
  {
   "cell_type": "code",
   "execution_count": 1,
   "metadata": {
    "collapsed": true,
    "deletable": true,
    "editable": true,
    "id": "SKVoN9E82yQi"
   },
   "outputs": [],
   "source": [
    "import numpy as np "
   ]
  },
  {
   "cell_type": "code",
   "execution_count": 3,
   "metadata": {
    "collapsed": false,
    "deletable": true,
    "editable": true,
    "id": "knBzIEbisYO_"
   },
   "outputs": [
    {
     "name": "stdout",
     "output_type": "stream",
     "text": [
      "60.0GdB\n"
     ]
    }
   ],
   "source": [
    "#1.正常的談話的聲壓為20000微巴斯卡，請問多少分貝?\n",
    "#請寫下程式\n",
    "V1 = 20000\n",
    "V0 = 20\n",
    "GdB=20*np.log10(V1/V0)\n",
    "print(str(GdB)+\" GdB\")"
   ]
  },
  {
   "cell_type": "code",
   "execution_count": 5,
   "metadata": {
    "collapsed": false,
    "deletable": true,
    "editable": true,
    "id": "5Vknqg8esbl_"
   },
   "outputs": [
    {
     "name": "stdout",
     "output_type": "stream",
     "text": [
      "0.09999999999999999\n",
      "Formula: V1=V0*10^(Gdb/20)\n"
     ]
    }
   ],
   "source": [
    "#2.30分貝的聲壓會是50分貝的幾倍?\n",
    "#公式移項過後可以得到 V1 = ?\n",
    "#請寫下程式\n",
    "V30=V0*10**(30/20)\n",
    "V50=V0*10**(50/20)\n",
    "print(V30/V50)\n",
    "print(\"Formula: V1=V0*10^(Gdb/20)\")"
   ]
  },
  {
   "cell_type": "code",
   "execution_count": null,
   "metadata": {
    "collapsed": true,
    "deletable": true,
    "editable": true,
    "id": "LjGnv4Q-1t7u"
   },
   "outputs": [],
   "source": []
  }
 ],
 "metadata": {
  "colab": {
   "authorship_tag": "ABX9TyNuy8nFyZsCqfcHKKs2ys9H",
   "collapsed_sections": [],
   "name": "作業_Hong題目.ipynb",
   "provenance": []
  },
  "kernelspec": {
   "display_name": "Python 3",
   "language": "python",
   "name": "python3"
  },
  "language_info": {
   "codemirror_mode": {
    "name": "ipython",
    "version": 3
   },
   "file_extension": ".py",
   "mimetype": "text/x-python",
   "name": "python",
   "nbconvert_exporter": "python",
   "pygments_lexer": "ipython3",
   "version": "3.6.0"
  }
 },
 "nbformat": 4,
 "nbformat_minor": 0
}
